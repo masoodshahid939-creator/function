{
 "cells": [
  {
   "cell_type": "markdown",
   "id": "5a9afcf0-3a9e-4e2a-a8b7-141d606adfd8",
   "metadata": {},
   "source": [
    "1. Difference between a function and a method in Python\n",
    "\n",
    "ANSWER-A function is defined independently and can be called directly.\n",
    "\n",
    "ANSWER-A method is a function that belongs to an object like a list or string.\n",
    "\n",
    "2. Function arguments and parameters\n",
    "\n",
    "ANSWER-Parameters are variables inside the function definition.\n",
    "\n",
    "ANSWER-Arguments are actual values passed to the function when it is called.\n",
    "\n",
    "3. Ways to define and call a function in Python\n",
    "\n",
    "ANSWER-Using def keyword.\n",
    "\n",
    "ANSWER-Using lambda functions.\n",
    "\n",
    "ANSWER-Using built-in functions.\n",
    "\n",
    "4. Purpose of return statement\n",
    "\n",
    "ANSWER-It is used to send a value back from a function to the place where it was called.\n",
    "\n",
    "5. Iterators vs Iterables\n",
    "\n",
    "ANSWER-Iterable: An object you can loop through (list, tuple, string).\n",
    "\n",
    "ANSWER-Iterator: An object that produces elements one at a time using next().\n",
    "\n",
    "6. Generators\n",
    "\n",
    "ANSWER-Generators are special functions that use yield to produce values one at a time instead of returning them all at once.\n",
    "\n",
    "7. Advantages of Generators\n",
    "\n",
    "ANSWER-They save memory.\n",
    "\n",
    "ANSWER-They are useful for working with large data or streams.\n",
    "\n",
    "8. Lambda function\n",
    "\n",
    "ANSWER-A small anonymous function written in one line using the lambda keyword.\n",
    "\n",
    "9. Purpose of map() function\n",
    "\n",
    "ANSWER-It applies a given function to all items of an iterable.\n",
    "\n",
    "10. Difference between map(), reduce(), and filter()\n",
    "\n",
    "ANSWER-map(): Applies a function to every element of an iterable.\n",
    "\n",
    "ANSWER-filter(): Selects elements that meet a condition.\n",
    "\n",
    "ANSWER-reduce(): Combines all elements into a single value."
   ]
  },
  {
   "cell_type": "code",
   "execution_count": 1,
   "id": "3418c800-774b-42be-b5e0-5e0170e69e3c",
   "metadata": {},
   "outputs": [
    {
     "name": "stdout",
     "output_type": "stream",
     "text": [
      "12\n"
     ]
    }
   ],
   "source": [
    "#1. Sum of even numbers in list\n",
    "def sum_even(nums):\n",
    "    total = 0\n",
    "    for n in nums:\n",
    "        if n % 2 == 0:\n",
    "            total += n\n",
    "    return total\n",
    "\n",
    "print(sum_even([1,2,3,4,5,6])) \n"
   ]
  },
  {
   "cell_type": "code",
   "execution_count": 2,
   "id": "d75cb37a-5c26-44b6-8c98-dcb8a8af9b1b",
   "metadata": {},
   "outputs": [
    {
     "name": "stdout",
     "output_type": "stream",
     "text": [
      "olleh\n"
     ]
    }
   ],
   "source": [
    "#2. Reverse a string\n",
    "def reverse_string(s):\n",
    "    return s[::-1]\n",
    "\n",
    "print(reverse_string(\"hello\")) \n"
   ]
  },
  {
   "cell_type": "code",
   "execution_count": 3,
   "id": "104fa6c1-5f72-419e-8dda-f11caff57629",
   "metadata": {},
   "outputs": [
    {
     "name": "stdout",
     "output_type": "stream",
     "text": [
      "[1, 4, 9]\n"
     ]
    }
   ],
   "source": [
    "#3. Squares of list numbers\n",
    "def squares(nums):\n",
    "    return [n*n for n in nums]\n",
    "\n",
    "print(squares([1,2,3]))\n"
   ]
  },
  {
   "cell_type": "code",
   "execution_count": 4,
   "id": "a85f0ea0-e04a-4dc1-8573-f652cfd40591",
   "metadata": {},
   "outputs": [
    {
     "name": "stdout",
     "output_type": "stream",
     "text": [
      "2 3 5 7 11 13 17 19 23 29 31 37 41 43 47 53 59 61 67 71 73 79 83 89 97 101 103 107 109 113 127 131 137 139 149 151 157 163 167 173 179 181 191 193 197 199 "
     ]
    }
   ],
   "source": [
    "#4. Prime numbers check (1–200)\n",
    "def is_prime(n):\n",
    "    if n < 2:\n",
    "        return False\n",
    "    for i in range(2, int(n**0.5)+1):\n",
    "        if n % i == 0:\n",
    "            return False\n",
    "    return True\n",
    "\n",
    "for i in range(1, 201):\n",
    "    if is_prime(i):\n",
    "        print(i, end=\" \")\n"
   ]
  },
  {
   "cell_type": "code",
   "execution_count": 5,
   "id": "9cfd4459-5a94-4509-8711-575c33d87118",
   "metadata": {},
   "outputs": [
    {
     "name": "stdout",
     "output_type": "stream",
     "text": [
      "0 1 1 2 3 5 8 13 21 34 "
     ]
    }
   ],
   "source": [
    "#5. Fibonacci iterator\n",
    "class Fibonacci:\n",
    "    def __init__(self, terms):\n",
    "        self.terms = terms\n",
    "        self.a, self.b = 0, 1\n",
    "        self.count = 0\n",
    "\n",
    "    def __iter__(self):\n",
    "        return self\n",
    "\n",
    "    def __next__(self):\n",
    "        if self.count < self.terms:\n",
    "            value = self.a\n",
    "            self.a, self.b = self.b, self.a + self.b\n",
    "            self.count += 1\n",
    "            return value\n",
    "        else:\n",
    "            raise StopIteration\n",
    "\n",
    "for num in Fibonacci(10):\n",
    "    print(num, end=\" \")\n"
   ]
  },
  {
   "cell_type": "code",
   "execution_count": 6,
   "id": "21c10560-f57a-494e-8880-7453b896ec21",
   "metadata": {},
   "outputs": [
    {
     "name": "stdout",
     "output_type": "stream",
     "text": [
      "1\n",
      "2\n",
      "4\n",
      "8\n",
      "16\n",
      "32\n"
     ]
    }
   ],
   "source": [
    "#6. Generator for powers of 2\n",
    "def powers_of_two(n):\n",
    "    for i in range(n+1):\n",
    "        yield 2**i\n",
    "\n",
    "for val in powers_of_two(5):\n",
    "    print(val)\n"
   ]
  },
  {
   "cell_type": "code",
   "execution_count": 9,
   "id": "0c145cb2-0fd2-4a29-80e7-6ae15a581937",
   "metadata": {},
   "outputs": [],
   "source": [
    "#7. Generator reading file line by line\n",
    "def read_file(filename):\n",
    "    with open(filename, \"r\") as f:\n",
    "        for line in f:\n",
    "            yield line.strip()\n"
   ]
  },
  {
   "cell_type": "code",
   "execution_count": 10,
   "id": "7181b094-7d38-4324-a36e-13d9f3123a51",
   "metadata": {},
   "outputs": [
    {
     "name": "stdout",
     "output_type": "stream",
     "text": [
      "[(2, 1), (4, 2), (1, 3)]\n"
     ]
    }
   ],
   "source": [
    "#8. Lambda sorting tuples by second element\n",
    "pairs = [(1,3),(2,1),(4,2)]\n",
    "sorted_list = sorted(pairs, key=lambda x: x[1])\n",
    "print(sorted_list)  # [(2,1),(4,2),(1,3)]\n"
   ]
  },
  {
   "cell_type": "code",
   "execution_count": 11,
   "id": "0ad80b2e-1572-453e-b509-f269e0ebf1f8",
   "metadata": {},
   "outputs": [
    {
     "name": "stdout",
     "output_type": "stream",
     "text": [
      "[32.0, 50.0, 68.0, 86.0]\n"
     ]
    }
   ],
   "source": [
    "#9. Convert Celsius to Fahrenheit using map()\n",
    "celsius = [0, 10, 20, 30]\n",
    "fahrenheit = list(map(lambda c: (c*9/5)+32, celsius))\n",
    "print(fahrenheit)  # [32,50,68,86]\n"
   ]
  },
  {
   "cell_type": "code",
   "execution_count": 12,
   "id": "50ffcba4-0843-4f46-a3ca-0b63537d34e1",
   "metadata": {},
   "outputs": [
    {
     "name": "stdout",
     "output_type": "stream",
     "text": [
      "[(2, 1), (4, 2), (1, 3)]\n"
     ]
    }
   ],
   "source": [
    "#10. Remove vowels using filter()\n",
    "pairs = [(1,3),(2,1),(4,2)]\n",
    "sorted_list = sorted(pairs, key=lambda x: x[1])\n",
    "print(sorted_list)  # [(2,1),(4,2),(1,3)]\n"
   ]
  },
  {
   "cell_type": "code",
   "execution_count": 13,
   "id": "fb0894fc-1a67-4a65-9f0d-011ec9c1f570",
   "metadata": {},
   "outputs": [
    {
     "name": "stdout",
     "output_type": "stream",
     "text": [
      "[(34587, 163.8), (98762, 284.0), (77226, 108.85000000000001), (88112, 84.97)]\n"
     ]
    }
   ],
   "source": [
    "#11. Bookshop accounting (map + lambda)\n",
    "orders = [\n",
    "    [34587, \"Learning Python\", 4, 40.95],\n",
    "    [98762, \"Programming 101\", 5, 56.80],\n",
    "    [77226, \"DSA Book\", 3, 32.95],\n",
    "    [88112, \"AI Basics\", 3, 24.99]\n",
    "]\n",
    "\n",
    "result = list(map(lambda x: (x[0], x[2]*x[3] if x[2]*x[3] >= 100 else x[2]*x[3]+10), orders))\n",
    "print(result)\n"
   ]
  },
  {
   "cell_type": "code",
   "execution_count": null,
   "id": "2ff70792-4e62-4f3a-92bc-899374048170",
   "metadata": {},
   "outputs": [],
   "source": []
  }
 ],
 "metadata": {
  "kernelspec": {
   "display_name": "Python 3 (ipykernel)",
   "language": "python",
   "name": "python3"
  },
  "language_info": {
   "codemirror_mode": {
    "name": "ipython",
    "version": 3
   },
   "file_extension": ".py",
   "mimetype": "text/x-python",
   "name": "python",
   "nbconvert_exporter": "python",
   "pygments_lexer": "ipython3",
   "version": "3.13.7"
  }
 },
 "nbformat": 4,
 "nbformat_minor": 5
}
